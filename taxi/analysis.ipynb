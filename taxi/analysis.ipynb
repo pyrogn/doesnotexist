{
 "cells": [
  {
   "cell_type": "code",
   "execution_count": 4,
   "id": "2282b62b-5c26-4f32-9b40-cf94c1d374af",
   "metadata": {},
   "outputs": [],
   "source": [
    "import pandas as pd\n",
    "import numpy as np\n",
    "# import sweetviz as sv\n",
    "from matplotlib import pyplot as plt"
   ]
  },
  {
   "cell_type": "code",
   "execution_count": 5,
   "id": "9a1f5fa7-6e8a-4914-9b37-19c04997cb2e",
   "metadata": {},
   "outputs": [],
   "source": [
    "df = pd.read_csv('data.csv')"
   ]
  },
  {
   "cell_type": "code",
   "execution_count": 6,
   "id": "9c3bfa64-7cf4-4159-b739-03a785bf18e0",
   "metadata": {},
   "outputs": [
    {
     "data": {
      "text/html": [
       "<div>\n",
       "<style scoped>\n",
       "    .dataframe tbody tr th:only-of-type {\n",
       "        vertical-align: middle;\n",
       "    }\n",
       "\n",
       "    .dataframe tbody tr th {\n",
       "        vertical-align: top;\n",
       "    }\n",
       "\n",
       "    .dataframe thead th {\n",
       "        text-align: right;\n",
       "    }\n",
       "</style>\n",
       "<table border=\"1\" class=\"dataframe\">\n",
       "  <thead>\n",
       "    <tr style=\"text-align: right;\">\n",
       "      <th></th>\n",
       "      <th>order_id_new</th>\n",
       "      <th>order_try_id_new</th>\n",
       "      <th>calc_created</th>\n",
       "      <th>metered_price</th>\n",
       "      <th>upfront_price</th>\n",
       "      <th>distance</th>\n",
       "      <th>duration</th>\n",
       "      <th>gps_confidence</th>\n",
       "      <th>entered_by</th>\n",
       "      <th>b_state</th>\n",
       "      <th>...</th>\n",
       "      <th>device_token</th>\n",
       "      <th>rider_app_version</th>\n",
       "      <th>order_state</th>\n",
       "      <th>order_try_state</th>\n",
       "      <th>driver_app_version</th>\n",
       "      <th>driver_device_uid_new</th>\n",
       "      <th>device_name</th>\n",
       "      <th>eu_indicator</th>\n",
       "      <th>overpaid_ride_ticket</th>\n",
       "      <th>fraud_score</th>\n",
       "    </tr>\n",
       "  </thead>\n",
       "  <tbody>\n",
       "    <tr>\n",
       "      <th>0</th>\n",
       "      <td>22</td>\n",
       "      <td>22</td>\n",
       "      <td>2020-02-02 3:37:31</td>\n",
       "      <td>4.04</td>\n",
       "      <td>10.0</td>\n",
       "      <td>2839</td>\n",
       "      <td>700</td>\n",
       "      <td>1</td>\n",
       "      <td>client</td>\n",
       "      <td>finished</td>\n",
       "      <td>...</td>\n",
       "      <td>NaN</td>\n",
       "      <td>CI.4.17</td>\n",
       "      <td>finished</td>\n",
       "      <td>finished</td>\n",
       "      <td>DA.4.37</td>\n",
       "      <td>1596</td>\n",
       "      <td>Xiaomi Redmi 6</td>\n",
       "      <td>1</td>\n",
       "      <td>0</td>\n",
       "      <td>-1383.0</td>\n",
       "    </tr>\n",
       "    <tr>\n",
       "      <th>1</th>\n",
       "      <td>618</td>\n",
       "      <td>618</td>\n",
       "      <td>2020-02-08 2:26:19</td>\n",
       "      <td>6.09</td>\n",
       "      <td>3.6</td>\n",
       "      <td>5698</td>\n",
       "      <td>493</td>\n",
       "      <td>1</td>\n",
       "      <td>client</td>\n",
       "      <td>finished</td>\n",
       "      <td>...</td>\n",
       "      <td>NaN</td>\n",
       "      <td>CA.5.43</td>\n",
       "      <td>finished</td>\n",
       "      <td>finished</td>\n",
       "      <td>DA.4.39</td>\n",
       "      <td>1578</td>\n",
       "      <td>Samsung SM-G965F</td>\n",
       "      <td>1</td>\n",
       "      <td>0</td>\n",
       "      <td>NaN</td>\n",
       "    </tr>\n",
       "    <tr>\n",
       "      <th>2</th>\n",
       "      <td>657</td>\n",
       "      <td>657</td>\n",
       "      <td>2020-02-08 11:50:35</td>\n",
       "      <td>4.32</td>\n",
       "      <td>3.5</td>\n",
       "      <td>4426</td>\n",
       "      <td>695</td>\n",
       "      <td>1</td>\n",
       "      <td>client</td>\n",
       "      <td>finished</td>\n",
       "      <td>...</td>\n",
       "      <td>NaN</td>\n",
       "      <td>CA.5.43</td>\n",
       "      <td>finished</td>\n",
       "      <td>finished</td>\n",
       "      <td>DA.4.37</td>\n",
       "      <td>951</td>\n",
       "      <td>Samsung SM-A530F</td>\n",
       "      <td>1</td>\n",
       "      <td>0</td>\n",
       "      <td>-166.0</td>\n",
       "    </tr>\n",
       "    <tr>\n",
       "      <th>3</th>\n",
       "      <td>313</td>\n",
       "      <td>313</td>\n",
       "      <td>2020-02-05 6:34:54</td>\n",
       "      <td>72871.72</td>\n",
       "      <td>NaN</td>\n",
       "      <td>49748</td>\n",
       "      <td>1400</td>\n",
       "      <td>0</td>\n",
       "      <td>client</td>\n",
       "      <td>finished</td>\n",
       "      <td>...</td>\n",
       "      <td>NaN</td>\n",
       "      <td>CA.5.23</td>\n",
       "      <td>finished</td>\n",
       "      <td>finished</td>\n",
       "      <td>DA.4.37</td>\n",
       "      <td>1587</td>\n",
       "      <td>TECNO-Y6</td>\n",
       "      <td>0</td>\n",
       "      <td>1</td>\n",
       "      <td>NaN</td>\n",
       "    </tr>\n",
       "    <tr>\n",
       "      <th>4</th>\n",
       "      <td>1176</td>\n",
       "      <td>1176</td>\n",
       "      <td>2020-02-13 17:31:24</td>\n",
       "      <td>20032.50</td>\n",
       "      <td>19500.0</td>\n",
       "      <td>10273</td>\n",
       "      <td>5067</td>\n",
       "      <td>1</td>\n",
       "      <td>client</td>\n",
       "      <td>finished</td>\n",
       "      <td>...</td>\n",
       "      <td>NaN</td>\n",
       "      <td>CA.5.04</td>\n",
       "      <td>finished</td>\n",
       "      <td>finished</td>\n",
       "      <td>DA.4.37</td>\n",
       "      <td>433</td>\n",
       "      <td>Itel W5504</td>\n",
       "      <td>0</td>\n",
       "      <td>0</td>\n",
       "      <td>NaN</td>\n",
       "    </tr>\n",
       "  </tbody>\n",
       "</table>\n",
       "<p>5 rows × 26 columns</p>\n",
       "</div>"
      ],
      "text/plain": [
       "   order_id_new  order_try_id_new         calc_created  metered_price  \\\n",
       "0            22                22   2020-02-02 3:37:31           4.04   \n",
       "1           618               618   2020-02-08 2:26:19           6.09   \n",
       "2           657               657  2020-02-08 11:50:35           4.32   \n",
       "3           313               313   2020-02-05 6:34:54       72871.72   \n",
       "4          1176              1176  2020-02-13 17:31:24       20032.50   \n",
       "\n",
       "   upfront_price  distance  duration  gps_confidence entered_by   b_state  \\\n",
       "0           10.0      2839       700               1     client  finished   \n",
       "1            3.6      5698       493               1     client  finished   \n",
       "2            3.5      4426       695               1     client  finished   \n",
       "3            NaN     49748      1400               0     client  finished   \n",
       "4        19500.0     10273      5067               1     client  finished   \n",
       "\n",
       "   ...  device_token rider_app_version  order_state  order_try_state  \\\n",
       "0  ...           NaN           CI.4.17     finished         finished   \n",
       "1  ...           NaN           CA.5.43     finished         finished   \n",
       "2  ...           NaN           CA.5.43     finished         finished   \n",
       "3  ...           NaN           CA.5.23     finished         finished   \n",
       "4  ...           NaN           CA.5.04     finished         finished   \n",
       "\n",
       "  driver_app_version  driver_device_uid_new       device_name eu_indicator  \\\n",
       "0            DA.4.37                   1596    Xiaomi Redmi 6            1   \n",
       "1            DA.4.39                   1578  Samsung SM-G965F            1   \n",
       "2            DA.4.37                    951  Samsung SM-A530F            1   \n",
       "3            DA.4.37                   1587          TECNO-Y6            0   \n",
       "4            DA.4.37                    433        Itel W5504            0   \n",
       "\n",
       "  overpaid_ride_ticket fraud_score  \n",
       "0                    0     -1383.0  \n",
       "1                    0         NaN  \n",
       "2                    0      -166.0  \n",
       "3                    1         NaN  \n",
       "4                    0         NaN  \n",
       "\n",
       "[5 rows x 26 columns]"
      ]
     },
     "execution_count": 6,
     "metadata": {},
     "output_type": "execute_result"
    }
   ],
   "source": [
    "df.head()"
   ]
  },
  {
   "cell_type": "code",
   "execution_count": 7,
   "id": "0cf07237-6c06-4f9e-98a9-a5b1fec6897a",
   "metadata": {},
   "outputs": [
    {
     "data": {
      "text/plain": [
       "(4943, 26)"
      ]
     },
     "execution_count": 7,
     "metadata": {},
     "output_type": "execute_result"
    }
   ],
   "source": [
    "df.shape"
   ]
  },
  {
   "cell_type": "markdown",
   "id": "4e5cb54c-629f-47b4-a1a1-833e4f00a3d5",
   "metadata": {},
   "source": [
    "два каких-то id."
   ]
  },
  {
   "cell_type": "code",
   "execution_count": 8,
   "id": "0136dfc2-0c25-412f-80af-e116b921481d",
   "metadata": {},
   "outputs": [],
   "source": [
    "# df[df.order_id_new != df.order_try_id_new]\n",
    "# есть разногласия на 1."
   ]
  },
  {
   "cell_type": "markdown",
   "id": "58998cd0-095b-4c12-bc73-3881c3a5d246",
   "metadata": {},
   "source": [
    "### избавление от дубликатов"
   ]
  },
  {
   "cell_type": "markdown",
   "id": "d6269548-06c7-42f4-8f9e-a2964765a3b4",
   "metadata": {},
   "source": [
    "Всего дубликатов по ID."
   ]
  },
  {
   "cell_type": "code",
   "execution_count": 9,
   "id": "f81b9596-b0e9-487e-a7ca-44ee82908acd",
   "metadata": {},
   "outputs": [
    {
     "data": {
      "text/plain": [
       "777"
      ]
     },
     "execution_count": 9,
     "metadata": {},
     "output_type": "execute_result"
    }
   ],
   "source": [
    "df.shape[0] - df.drop_duplicates('order_id_new').shape[0]"
   ]
  },
  {
   "cell_type": "markdown",
   "id": "a8dc0ad6-622b-4681-accf-cf5cd87eb9a5",
   "metadata": {},
   "source": [
    "Проверка ниже показывает, что при одном ID время создания поездки всегда одинаковое."
   ]
  },
  {
   "cell_type": "code",
   "execution_count": 10,
   "id": "76293016-a87c-4a95-9f24-6f2852613705",
   "metadata": {},
   "outputs": [
    {
     "data": {
      "text/plain": [
       "True"
      ]
     },
     "execution_count": 10,
     "metadata": {},
     "output_type": "execute_result"
    }
   ],
   "source": [
    "df.drop_duplicates(['order_id_new', 'calc_created', 'overpaid_ride_ticket']).shape == \\\n",
    "df.drop_duplicates(['order_id_new', 'overpaid_ride_ticket']).shape"
   ]
  },
  {
   "cell_type": "markdown",
   "id": "da822ca6-03d1-40ac-b8de-2c0ad6c9326f",
   "metadata": {},
   "source": [
    "Но проблема в том, что иногда при абсолютно всех похожих данных у поездок с одним ID отличается целевая переменная - overpaid_ride_ticket. Целых 104 раза. Мы будем оставлять записи, которые имеют overpaid_ride_ticket == 1."
   ]
  },
  {
   "cell_type": "code",
   "execution_count": 11,
   "id": "38027c50-5c45-4eb8-9ce0-283cbed7a7c4",
   "metadata": {},
   "outputs": [
    {
     "data": {
      "text/plain": [
       "686     2\n",
       "2353    2\n",
       "933     2\n",
       "3524    2\n",
       "63      2\n",
       "       ..\n",
       "1447    1\n",
       "1705    1\n",
       "2423    1\n",
       "2450    1\n",
       "3636    1\n",
       "Name: order_id_new, Length: 4166, dtype: int64"
      ]
     },
     "execution_count": 11,
     "metadata": {},
     "output_type": "execute_result"
    }
   ],
   "source": [
    "df.drop_duplicates(['order_id_new', 'overpaid_ride_ticket']).order_id_new.value_counts()"
   ]
  },
  {
   "cell_type": "code",
   "execution_count": 12,
   "id": "6a186935-04a7-42ce-ae0e-5620ec281db5",
   "metadata": {},
   "outputs": [
    {
     "data": {
      "text/plain": [
       "104"
      ]
     },
     "execution_count": 12,
     "metadata": {},
     "output_type": "execute_result"
    }
   ],
   "source": [
    "(df.drop_duplicates(['order_id_new', 'overpaid_ride_ticket']).order_id_new.value_counts() == 2).sum()"
   ]
  },
  {
   "cell_type": "markdown",
   "id": "4f18f415-f2fa-4ba4-befa-9fbed8fea980",
   "metadata": {},
   "source": [
    "Находим ID таких поездок с разной целевой переменной. И создаём таблицу, которую мы сольём с основной."
   ]
  },
  {
   "cell_type": "code",
   "execution_count": 13,
   "id": "6f6856ca-5acd-4f47-9650-017290a267ff",
   "metadata": {},
   "outputs": [],
   "source": [
    "id_cnt = (df.drop_duplicates(['order_id_new', 'overpaid_ride_ticket']).order_id_new.value_counts() == 2)"
   ]
  },
  {
   "cell_type": "code",
   "execution_count": 14,
   "id": "79a39c88-cf21-4a23-98f0-a2c5d6bb9ebd",
   "metadata": {},
   "outputs": [],
   "source": [
    "id_dup = id_cnt[id_cnt].index"
   ]
  },
  {
   "cell_type": "code",
   "execution_count": 15,
   "id": "5e8caee7-d72d-43d8-86de-7233d8cf9773",
   "metadata": {},
   "outputs": [],
   "source": [
    "df_one_version_dup = df[df.order_id_new.isin(id_dup) & df.overpaid_ride_ticket == 1].drop_duplicates('order_id_new')"
   ]
  },
  {
   "cell_type": "code",
   "execution_count": 16,
   "id": "2a90c125-876a-4914-b887-478f7792bfab",
   "metadata": {},
   "outputs": [
    {
     "data": {
      "text/plain": [
       "(4943, 26)"
      ]
     },
     "execution_count": 16,
     "metadata": {},
     "output_type": "execute_result"
    }
   ],
   "source": [
    "df.shape"
   ]
  },
  {
   "cell_type": "markdown",
   "id": "b9e665e6-9211-4bb0-bb9c-dcc066bebf5e",
   "metadata": {},
   "source": [
    "Удаляем дубликаты по ID, сохраняем кол-во в переменную. (Вдруг такой серверный сбой как-нибудь влияет на итоговую переменную). Но надо быть осторожным, ведь мы фильтровали некоторые дубли в сторону единиц в таргете)."
   ]
  },
  {
   "cell_type": "code",
   "execution_count": 17,
   "id": "cfdc3e12-c820-449a-8202-4b8460be133a",
   "metadata": {},
   "outputs": [],
   "source": [
    "cnt_ix = df.order_id_new.value_counts().reset_index()"
   ]
  },
  {
   "cell_type": "code",
   "execution_count": 18,
   "id": "3212de4c-f7ed-4a1d-a892-90e7f6a3e89f",
   "metadata": {},
   "outputs": [],
   "source": [
    "cnt_ix.rename(columns={'order_id_new': 'cnt'}, inplace=True)"
   ]
  },
  {
   "cell_type": "code",
   "execution_count": 19,
   "id": "b6e98025-dcf5-485f-8d56-b261ffa4b523",
   "metadata": {},
   "outputs": [],
   "source": [
    "df = df.drop_duplicates('order_id_new').merge(cnt_ix, how='left', left_on='order_id_new', right_on='index')"
   ]
  },
  {
   "cell_type": "markdown",
   "id": "63e37664-e575-41cc-a19e-8aed11b41c4b",
   "metadata": {},
   "source": [
    "Избавляемся от ID, которые мы нашли. Они остались после удаления дубликатов на предыдущем шаге. И объединяем с таблицей, которую мы нашли ранее."
   ]
  },
  {
   "cell_type": "code",
   "execution_count": 20,
   "id": "5b1d7c9a-dc12-4526-8e45-749dac226cb2",
   "metadata": {},
   "outputs": [],
   "source": [
    "df = df.loc[~df.order_id_new.isin(id_dup)]"
   ]
  },
  {
   "cell_type": "code",
   "execution_count": 21,
   "id": "d46c4083-396e-4276-abcf-532c46c4fd91",
   "metadata": {},
   "outputs": [
    {
     "data": {
      "text/plain": [
       "(4062, 28)"
      ]
     },
     "execution_count": 21,
     "metadata": {},
     "output_type": "execute_result"
    }
   ],
   "source": [
    "df.shape"
   ]
  },
  {
   "cell_type": "code",
   "execution_count": 22,
   "id": "2d4ff37a-c790-4d4b-8b9a-a1a922ee9c3a",
   "metadata": {},
   "outputs": [],
   "source": [
    "df = pd.concat([df, df_one_version_dup], axis=0)"
   ]
  },
  {
   "cell_type": "code",
   "execution_count": 23,
   "id": "64b0600d-9bf6-4957-8105-8163a10f5ec6",
   "metadata": {},
   "outputs": [
    {
     "data": {
      "text/plain": [
       "(4166, 28)"
      ]
     },
     "execution_count": 23,
     "metadata": {},
     "output_type": "execute_result"
    }
   ],
   "source": [
    "df.shape"
   ]
  },
  {
   "cell_type": "code",
   "execution_count": 24,
   "id": "b480d41b-30ea-420f-a7f4-8d09d575b134",
   "metadata": {},
   "outputs": [],
   "source": [
    "df = df.drop(columns=['index', 'ticket_id_new']).reset_index(drop=True)"
   ]
  },
  {
   "cell_type": "code",
   "execution_count": 25,
   "id": "acce96bc-cd55-4d64-b23a-5c1ec3e17c0b",
   "metadata": {},
   "outputs": [
    {
     "data": {
      "text/plain": [
       "True"
      ]
     },
     "execution_count": 25,
     "metadata": {},
     "output_type": "execute_result"
    }
   ],
   "source": [
    "pd.read_csv('data.csv').drop_duplicates('order_id_new').shape[0] == df.shape[0]"
   ]
  },
  {
   "cell_type": "markdown",
   "id": "3d13dc83-3cd5-440d-840a-ac2f5d1b6ee5",
   "metadata": {},
   "source": [
    "Теперь действительно нет дубликатов по ID заказа. И не удалили лишние записи."
   ]
  },
  {
   "cell_type": "markdown",
   "id": "06382984-1e0d-4c6d-9395-ebdde76de800",
   "metadata": {
    "tags": []
   },
   "source": [
    "### Оценка целевой переменной"
   ]
  },
  {
   "cell_type": "markdown",
   "id": "35fec23a-d224-4d41-abde-79af449d0749",
   "metadata": {},
   "source": [
    "Наблюдаем сильный дисбаланс классов."
   ]
  },
  {
   "cell_type": "code",
   "execution_count": 23,
   "id": "447c25ba-0265-4a32-b779-5c2a968d3c2c",
   "metadata": {},
   "outputs": [
    {
     "data": {
      "text/plain": [
       "0    3857\n",
       "1     309\n",
       "Name: overpaid_ride_ticket, dtype: int64"
      ]
     },
     "execution_count": 23,
     "metadata": {},
     "output_type": "execute_result"
    }
   ],
   "source": [
    "df.overpaid_ride_ticket.value_counts()"
   ]
  },
  {
   "cell_type": "code",
   "execution_count": null,
   "id": "2dd17ad7-374a-4825-874a-2d60deaddc35",
   "metadata": {},
   "outputs": [],
   "source": []
  },
  {
   "cell_type": "code",
   "execution_count": 24,
   "id": "2e1021fe-3b86-4f72-80ff-cdfc585a761f",
   "metadata": {},
   "outputs": [],
   "source": [
    "# %matplotlib inline"
   ]
  },
  {
   "cell_type": "code",
   "execution_count": 25,
   "id": "2bd18c48-574a-4c84-8d77-32f4a182aa10",
   "metadata": {},
   "outputs": [
    {
     "data": {
      "text/plain": [
       "<AxesSubplot:>"
      ]
     },
     "execution_count": 25,
     "metadata": {},
     "output_type": "execute_result"
    }
   ],
   "source": [
    "df.overpaid_ride_ticket.value_counts().plot.bar()\n",
    "# plt.show()"
   ]
  },
  {
   "cell_type": "code",
   "execution_count": null,
   "id": "a061880b-5497-41f3-a5d6-d5ee23aed6d3",
   "metadata": {},
   "outputs": [],
   "source": []
  },
  {
   "cell_type": "markdown",
   "id": "daf4887f-7613-4f0c-9c07-4a095ab0d0e0",
   "metadata": {},
   "source": [
    "Европа и целевая переменная"
   ]
  },
  {
   "cell_type": "code",
   "execution_count": 26,
   "id": "c381ef9a-4548-46db-8de5-be1ce563c5b0",
   "metadata": {},
   "outputs": [
    {
     "data": {
      "text/plain": [
       "1    2484\n",
       "0    1682\n",
       "Name: eu_indicator, dtype: int64"
      ]
     },
     "execution_count": 26,
     "metadata": {},
     "output_type": "execute_result"
    }
   ],
   "source": [
    "df.eu_indicator.value_counts()"
   ]
  },
  {
   "cell_type": "markdown",
   "id": "dabd4059-881d-4ff0-a43f-b7ac9cadee8f",
   "metadata": {},
   "source": [
    "Внезапно замечаем, что большинство переплат за поездки были не в Европе"
   ]
  },
  {
   "cell_type": "code",
   "execution_count": 27,
   "id": "52ebf6d0-bc80-4c33-9eb0-071cbca64bcd",
   "metadata": {},
   "outputs": [
    {
     "data": {
      "text/html": [
       "<div>\n",
       "<style scoped>\n",
       "    .dataframe tbody tr th:only-of-type {\n",
       "        vertical-align: middle;\n",
       "    }\n",
       "\n",
       "    .dataframe tbody tr th {\n",
       "        vertical-align: top;\n",
       "    }\n",
       "\n",
       "    .dataframe thead th {\n",
       "        text-align: right;\n",
       "    }\n",
       "</style>\n",
       "<table border=\"1\" class=\"dataframe\">\n",
       "  <thead>\n",
       "    <tr style=\"text-align: right;\">\n",
       "      <th></th>\n",
       "      <th></th>\n",
       "      <th>overpaid_ride_ticket</th>\n",
       "    </tr>\n",
       "    <tr>\n",
       "      <th>eu_indicator</th>\n",
       "      <th>overpaid_ride_ticket</th>\n",
       "      <th></th>\n",
       "    </tr>\n",
       "  </thead>\n",
       "  <tbody>\n",
       "    <tr>\n",
       "      <th rowspan=\"2\" valign=\"top\">0</th>\n",
       "      <th>0</th>\n",
       "      <td>1386</td>\n",
       "    </tr>\n",
       "    <tr>\n",
       "      <th>1</th>\n",
       "      <td>296</td>\n",
       "    </tr>\n",
       "    <tr>\n",
       "      <th rowspan=\"2\" valign=\"top\">1</th>\n",
       "      <th>0</th>\n",
       "      <td>2471</td>\n",
       "    </tr>\n",
       "    <tr>\n",
       "      <th>1</th>\n",
       "      <td>13</td>\n",
       "    </tr>\n",
       "  </tbody>\n",
       "</table>\n",
       "</div>"
      ],
      "text/plain": [
       "                                   overpaid_ride_ticket\n",
       "eu_indicator overpaid_ride_ticket                      \n",
       "0            0                                     1386\n",
       "             1                                      296\n",
       "1            0                                     2471\n",
       "             1                                       13"
      ]
     },
     "execution_count": 27,
     "metadata": {},
     "output_type": "execute_result"
    }
   ],
   "source": [
    "pd.DataFrame(df.groupby('eu_indicator').overpaid_ride_ticket.value_counts())"
   ]
  },
  {
   "cell_type": "markdown",
   "id": "5f2aed93-8b36-4551-9bb7-b29cfaed13e2",
   "metadata": {},
   "source": [
    "### Data cleaning"
   ]
  },
  {
   "cell_type": "markdown",
   "id": "74155127-2e9b-49d8-b236-a93b81ddf0b2",
   "metadata": {},
   "source": [
    "Я понял, что не могу вырезать значения налево и направо. Да, есть выбросы - нулевые или почти нулевые значения, но непонятно, что с ними можно адекватного сделать."
   ]
  },
  {
   "cell_type": "markdown",
   "id": "998c65e5-075a-4853-9259-14abc434183c",
   "metadata": {
    "tags": []
   },
   "source": [
    "### Feature engineering"
   ]
  },
  {
   "cell_type": "code",
   "execution_count": 26,
   "id": "c2dc9eac-f948-461b-8b7f-0199c02f62c1",
   "metadata": {},
   "outputs": [],
   "source": [
    "df['calc_created'] = pd.to_datetime(df.calc_created)\n",
    "df['time'] = df.calc_created.dt.time\n",
    "df['hour'] = df.calc_created.dt.hour\n",
    "df['month'] = df.calc_created.dt.month\n",
    "df['over_distance'] = df.distance - df.predicted_distance\n",
    "df['over_duration'] = df.duration - df.predicted_duration\n",
    "df['over_price'] = df.upfront_price - df.metered_price"
   ]
  },
  {
   "cell_type": "code",
   "execution_count": 59,
   "id": "51a9bf44-d96a-457b-9aa9-f9a5f1ade4f9",
   "metadata": {},
   "outputs": [],
   "source": [
    "df.to_csv('data_cleaned.csv', index=None, sep=';')"
   ]
  },
  {
   "cell_type": "code",
   "execution_count": 49,
   "id": "441a20da-cf7f-454e-94a0-87b7d0d8eafa",
   "metadata": {},
   "outputs": [],
   "source": [
    "# advert_report = sv.analyze(df)\n",
    "# advert_report.show_html('sweet_df.html')"
   ]
  },
  {
   "cell_type": "markdown",
   "id": "54319599-19f4-4a4f-9959-38a1a91edb6b",
   "metadata": {},
   "source": [
    "Со смартфоном нельзя связать. Понятно, что в другом регионе используются другие устройства (Tecno). Но нет связи с переплатой. Распределение слов очень похожее.   \n",
    "Но почему тогда это значимая переменная в модели?"
   ]
  },
  {
   "cell_type": "code",
   "execution_count": 29,
   "id": "9bcf619f-c468-4c93-83b8-448990e33be3",
   "metadata": {},
   "outputs": [],
   "source": [
    "total_words = []\n",
    "for row in df.device_name.str.split(r'[\\W]'):\n",
    "    for word in row:\n",
    "        if len(word) > 1:\n",
    "            total_words.append(word.lower())\n",
    "            \n",
    "total_words_over = []\n",
    "for row in df[df.overpaid_ride_ticket == 1].device_name.str.split(r'[\\W]'):\n",
    "    for word in row:\n",
    "        if len(word) > 1:\n",
    "            total_words_over.append(word.lower())"
   ]
  },
  {
   "cell_type": "markdown",
   "id": "6c827cdf-3653-4475-9bd9-63e6e52d2591",
   "metadata": {},
   "source": [
    "### Расследование смартфона v2"
   ]
  },
  {
   "cell_type": "code",
   "execution_count": 50,
   "id": "f8ab7f01-df69-4e6c-8474-2eae9a479a45",
   "metadata": {},
   "outputs": [],
   "source": [
    "import re"
   ]
  },
  {
   "cell_type": "code",
   "execution_count": 63,
   "id": "0e4265d8-2f94-4da2-9ac5-4751a4ffa2fc",
   "metadata": {},
   "outputs": [],
   "source": [
    "from sklearn.feature_extraction.text import CountVectorizer, TfidfVectorizer\n",
    "from sklearn.linear_model import LinearRegression"
   ]
  },
  {
   "cell_type": "code",
   "execution_count": 159,
   "id": "84573368-db5e-4551-8e09-0a7799441f6e",
   "metadata": {},
   "outputs": [],
   "source": [
    "vec = CountVectorizer(min_df=5, tokenizer=lambda x: re.split(r'[^a-zA-Z]', x))"
   ]
  },
  {
   "cell_type": "code",
   "execution_count": 160,
   "id": "8d82427b-c4d4-447d-a453-a7faccebf673",
   "metadata": {},
   "outputs": [],
   "source": [
    "matrix = vec.fit_transform(df[df.eu_indicator == 0].device_name)"
   ]
  },
  {
   "cell_type": "code",
   "execution_count": 161,
   "id": "11ce74d3-9b6f-469b-9576-57cf4c3ec298",
   "metadata": {},
   "outputs": [
    {
     "data": {
      "text/plain": [
       "<1682x75 sparse matrix of type '<class 'numpy.int64'>'\n",
       "\twith 6999 stored elements in Compressed Sparse Row format>"
      ]
     },
     "execution_count": 161,
     "metadata": {},
     "output_type": "execute_result"
    }
   ],
   "source": [
    "matrix"
   ]
  },
  {
   "cell_type": "code",
   "execution_count": 162,
   "id": "194e91fd-e839-4c7a-9e70-50c8c810afac",
   "metadata": {},
   "outputs": [],
   "source": [
    "lr = LinearRegression()"
   ]
  },
  {
   "cell_type": "code",
   "execution_count": 184,
   "id": "8d2abc92-39c8-45b8-b23c-c55f8f186167",
   "metadata": {},
   "outputs": [
    {
     "data": {
      "text/plain": [
       "LinearRegression()"
      ]
     },
     "execution_count": 184,
     "metadata": {},
     "output_type": "execute_result"
    }
   ],
   "source": [
    "lr.fit(matrix, df[df.eu_indicator == 0].gps_confidence)"
   ]
  },
  {
   "cell_type": "code",
   "execution_count": 185,
   "id": "41355afe-6831-4134-a5ab-e5525fa480af",
   "metadata": {},
   "outputs": [],
   "source": [
    "names = pd.Series(vec.get_feature_names()).sort_values()"
   ]
  },
  {
   "cell_type": "code",
   "execution_count": 186,
   "id": "6c5ce329-09bc-4d5f-97c6-be1fd2e05398",
   "metadata": {},
   "outputs": [
    {
     "data": {
      "text/plain": [
       "xiaomi    -0.723561\n",
       "gt        -0.631227\n",
       "fujitsu   -0.614053\n",
       "tg        -0.510909\n",
       "foxconn   -0.510909\n",
       "             ...   \n",
       "phantom    0.585821\n",
       "lx         0.613049\n",
       "lc         0.626032\n",
       "ax         0.627996\n",
       "lb         0.660334\n",
       "Length: 75, dtype: float64"
      ]
     },
     "execution_count": 186,
     "metadata": {},
     "output_type": "execute_result"
    }
   ],
   "source": [
    "pd.Series({i: j for i, j in zip(names, lr.coef_)}).sort_values()"
   ]
  },
  {
   "cell_type": "code",
   "execution_count": 187,
   "id": "8d2660b9-833c-41af-a48d-c74181727a76",
   "metadata": {},
   "outputs": [
    {
     "name": "stdout",
     "output_type": "stream",
     "text": [
      "xiaomi     -0.723561\n",
      "gt         -0.631227\n",
      "fujitsu    -0.614053\n",
      "tg         -0.510909\n",
      "foxconn    -0.510909\n",
      "fw         -0.479312\n",
      "m          -0.311202\n",
      "alps       -0.310435\n",
      "infinix    -0.237259\n",
      "samsung    -0.225570\n",
      "itel       -0.198060\n",
      "ta         -0.166225\n",
      "sony       -0.159990\n",
      "huawei     -0.154286\n",
      "mobile     -0.150941\n",
      "lite       -0.127800\n",
      "b          -0.094678\n",
      "e          -0.075256\n",
      "tecno      -0.069233\n",
      "c          -0.060299\n",
      "d          -0.054407\n",
      "iris       -0.048779\n",
      "htc        -0.047705\n",
      "global     -0.039614\n",
      "hmd        -0.039614\n",
      "pro        -0.036451\n",
      "cph         0.023157\n",
      "sm          0.024473\n",
      "g           0.030184\n",
      "j           0.052399\n",
      "p           0.064203\n",
      "            0.069475\n",
      "limited     0.076724\n",
      "trt         0.105099\n",
      "nokia       0.126611\n",
      "camon       0.149157\n",
      "air         0.149157\n",
      "y           0.150640\n",
      "oppo        0.184323\n",
      "t           0.191314\n",
      "plus        0.210866\n",
      "l           0.225627\n",
      "mobility    0.227666\n",
      "iphone      0.234254\n",
      "w           0.267571\n",
      "k           0.275931\n",
      "lava        0.279382\n",
      "a           0.282322\n",
      "s           0.285479\n",
      "hot         0.290447\n",
      "cx          0.298314\n",
      "x           0.302637\n",
      "fn          0.313576\n",
      "f           0.317347\n",
      "h           0.332715\n",
      "ka          0.333945\n",
      "wx          0.350218\n",
      "ca          0.367574\n",
      "n           0.368726\n",
      "o           0.381975\n",
      "kc          0.390492\n",
      "kb          0.396185\n",
      "cf          0.401888\n",
      "ba          0.451444\n",
      "la          0.485707\n",
      "cc          0.498716\n",
      "i           0.507321\n",
      "u           0.532188\n",
      "note        0.545981\n",
      "redmi       0.562703\n",
      "phantom     0.585821\n",
      "lx          0.613049\n",
      "lc          0.626032\n",
      "ax          0.627996\n",
      "lb          0.660334\n"
     ]
    }
   ],
   "source": [
    "print(pd.Series({i: j for i, j in zip(names, lr.coef_)}).sort_values().to_string())"
   ]
  },
  {
   "cell_type": "code",
   "execution_count": 177,
   "id": "765765f9-ab27-4012-a1cb-05fdaa842a17",
   "metadata": {},
   "outputs": [
    {
     "data": {
      "text/plain": [
       "LinearRegression()"
      ]
     },
     "execution_count": 177,
     "metadata": {},
     "output_type": "execute_result"
    }
   ],
   "source": [
    "lr.fit(matrix, df[df.eu_indicator == 0].overpaid_ride_ticket)"
   ]
  },
  {
   "cell_type": "code",
   "execution_count": 178,
   "id": "20349326-5b90-4e46-8034-180d12e1c532",
   "metadata": {},
   "outputs": [],
   "source": [
    "names = pd.Series(vec.get_feature_names()).sort_values()"
   ]
  },
  {
   "cell_type": "code",
   "execution_count": 181,
   "id": "08f37d9a-dcb1-43ba-b31a-e3ae88a26686",
   "metadata": {},
   "outputs": [
    {
     "data": {
      "text/plain": [
       "lc     -0.333826\n",
       "cc     -0.332411\n",
       "la     -0.332300\n",
       "kb     -0.312177\n",
       "iris   -0.307687\n",
       "          ...   \n",
       "sm      0.179632\n",
       "lava    0.331176\n",
       "htc     0.369271\n",
       "y       0.437828\n",
       "gt      0.787539\n",
       "Length: 75, dtype: float64"
      ]
     },
     "execution_count": 181,
     "metadata": {},
     "output_type": "execute_result"
    }
   ],
   "source": [
    "pd.Series({i: j for i, j in zip(names, lr.coef_)}).sort_values()"
   ]
  },
  {
   "cell_type": "markdown",
   "id": "855efaa8-1265-45c8-8092-4d306cd3f4b5",
   "metadata": {
    "tags": []
   },
   "source": [
    "### Some ML"
   ]
  },
  {
   "cell_type": "code",
   "execution_count": 30,
   "id": "1e94ee8b-9da3-419e-8c0d-0d335bd58acb",
   "metadata": {},
   "outputs": [],
   "source": [
    "import catboost"
   ]
  },
  {
   "cell_type": "code",
   "execution_count": 31,
   "id": "53b57205-232c-463f-9865-6f36bbb0d6fa",
   "metadata": {},
   "outputs": [],
   "source": [
    "from sklearn.model_selection import train_test_split"
   ]
  },
  {
   "cell_type": "code",
   "execution_count": 32,
   "id": "cca3d26c-223f-4c99-946b-c7a2c2b89bd9",
   "metadata": {},
   "outputs": [],
   "source": [
    "num_features = ['hour', 'eu_indicator', 'fraud_score', 'predicted_distance', 'predicted_duration',\\\n",
    "               'gps_confidence', 'duration', 'distance', 'upfront_price', 'metered_price', ]\n",
    "cat_features = ['entered_by', 'prediction_price_type', 'change_reason_pricing', 'rider_app_version', 'driver_app_version',\\\n",
    "               'device_name', 'dest_change_number', 'month']"
   ]
  },
  {
   "cell_type": "code",
   "execution_count": 33,
   "id": "ef00a5c7-f438-4afd-ac5a-86026305fbca",
   "metadata": {},
   "outputs": [],
   "source": [
    "y = df[df.eu_indicator == 0].overpaid_ride_ticket\n",
    "X = df[df.eu_indicator == 0][num_features + cat_features]"
   ]
  },
  {
   "cell_type": "code",
   "execution_count": 34,
   "id": "bc912290-b08d-451b-9e7c-f1024e16d234",
   "metadata": {},
   "outputs": [],
   "source": [
    "X['fraud_score'] = X['fraud_score'].fillna(0)"
   ]
  },
  {
   "cell_type": "code",
   "execution_count": 35,
   "id": "6bcbf440-bea4-492c-b611-392667afd050",
   "metadata": {},
   "outputs": [],
   "source": [
    "X.loc[:, cat_features] = X.loc[:, cat_features].fillna('NaN')"
   ]
  },
  {
   "cell_type": "code",
   "execution_count": 36,
   "id": "630222b3-0b11-41c8-beb9-49df000819bc",
   "metadata": {},
   "outputs": [],
   "source": [
    "clf = catboost.CatBoostClassifier(cat_features=cat_features, verbose=0, max_depth=4)"
   ]
  },
  {
   "cell_type": "code",
   "execution_count": 37,
   "id": "65b4dea7-a9c8-49a0-9483-a3f5349ce383",
   "metadata": {},
   "outputs": [
    {
     "data": {
      "text/plain": [
       "<catboost.core.CatBoostClassifier at 0x1d35f9e0670>"
      ]
     },
     "execution_count": 37,
     "metadata": {},
     "output_type": "execute_result"
    }
   ],
   "source": [
    "clf.fit(X, y)"
   ]
  },
  {
   "cell_type": "code",
   "execution_count": 38,
   "id": "f918cb81-f985-417d-80a5-70c2adcea12e",
   "metadata": {},
   "outputs": [
    {
     "data": {
      "text/plain": [
       "distance                 15.447536\n",
       "duration                 10.590954\n",
       "driver_app_version       10.271507\n",
       "gps_confidence           10.237243\n",
       "predicted_duration        8.994932\n",
       "device_name               8.577873\n",
       "predicted_distance        6.416946\n",
       "prediction_price_type     6.026987\n",
       "rider_app_version         5.497820\n",
       "metered_price             4.610491\n",
       "hour                      4.488127\n",
       "upfront_price             2.881141\n",
       "change_reason_pricing     2.710194\n",
       "dest_change_number        2.403301\n",
       "fraud_score               0.720820\n",
       "month                     0.124128\n",
       "entered_by                0.000000\n",
       "eu_indicator              0.000000\n",
       "dtype: float64"
      ]
     },
     "execution_count": 38,
     "metadata": {},
     "output_type": "execute_result"
    }
   ],
   "source": [
    "pd.Series({i: j for i, j in zip(clf.feature_names_, clf.feature_importances_)}).sort_values(ascending=False)"
   ]
  },
  {
   "cell_type": "code",
   "execution_count": null,
   "id": "b1c4111e-402f-4e6e-b41b-ce3d553e868b",
   "metadata": {},
   "outputs": [],
   "source": []
  },
  {
   "cell_type": "code",
   "execution_count": null,
   "id": "2a53353e-212e-4934-baeb-79dafffc1369",
   "metadata": {},
   "outputs": [],
   "source": []
  },
  {
   "cell_type": "markdown",
   "id": "d22ac6b7-5c6c-4cae-92ce-1964b44445e6",
   "metadata": {},
   "source": [
    "### Non EU investigation"
   ]
  },
  {
   "cell_type": "code",
   "execution_count": 39,
   "id": "2942cd40-3d72-4e44-b076-04b7756836a7",
   "metadata": {},
   "outputs": [],
   "source": [
    "eu = df[df.eu_indicator == 0]"
   ]
  },
  {
   "cell_type": "code",
   "execution_count": 118,
   "id": "084f23a2-5285-44b3-800a-e4028c202f88",
   "metadata": {},
   "outputs": [
    {
     "data": {
      "text/plain": [
       "gps_confidence  overpaid_ride_ticket\n",
       "0               0                       469\n",
       "                1                       182\n",
       "1               0                       917\n",
       "                1                       114\n",
       "Name: overpaid_ride_ticket, dtype: int64"
      ]
     },
     "execution_count": 118,
     "metadata": {},
     "output_type": "execute_result"
    }
   ],
   "source": [
    "eu.groupby('gps_confidence').overpaid_ride_ticket.value_counts()"
   ]
  },
  {
   "cell_type": "code",
   "execution_count": 119,
   "id": "67bfcca1-38f0-4ffc-a870-148eb87331a3",
   "metadata": {},
   "outputs": [
    {
     "data": {
      "text/plain": [
       "overpaid_ride_ticket  gps_confidence\n",
       "0                     1                 917\n",
       "                      0                 469\n",
       "1                     0                 182\n",
       "                      1                 114\n",
       "Name: gps_confidence, dtype: int64"
      ]
     },
     "execution_count": 119,
     "metadata": {},
     "output_type": "execute_result"
    }
   ],
   "source": [
    "eu.groupby('overpaid_ride_ticket').gps_confidence.value_counts()"
   ]
  },
  {
   "cell_type": "code",
   "execution_count": null,
   "id": "5396b0ed-03b6-48d0-ae80-815e0a74ae4e",
   "metadata": {},
   "outputs": [],
   "source": []
  },
  {
   "cell_type": "code",
   "execution_count": 148,
   "id": "7164fbd2-617c-4545-b93d-2dcf65a7ff1a",
   "metadata": {},
   "outputs": [
    {
     "data": {
      "image/png": "[encoded data removed]",
      "text/plain": [
       "<Figure size 640x480 with 1 Axes>"
      ]
     },
     "metadata": {},
     "output_type": "display_data"
    }
   ],
   "source": [
    "eu[eu.overpaid_ride_ticket == 1].distance.hist()\n",
    "plt.show()"
   ]
  },
  {
   "cell_type": "code",
   "execution_count": 149,
   "id": "355e84d6-9f40-499a-b3f9-c2b41eeac4f4",
   "metadata": {},
   "outputs": [
    {
     "data": {
      "image/png": "[encoded data removed]",
      "text/plain": [
       "<Figure size 640x480 with 1 Axes>"
      ]
     },
     "metadata": {},
     "output_type": "display_data"
    }
   ],
   "source": [
    "eu[eu.overpaid_ride_ticket == 0].distance.hist()\n",
    "plt.show()"
   ]
  },
  {
   "cell_type": "code",
   "execution_count": 141,
   "id": "b5d5029f-59fc-4c0f-9edd-0fe4efb220a0",
   "metadata": {},
   "outputs": [
    {
     "data": {
      "text/plain": [
       "count      296.0\n",
       "mean     14244.8\n",
       "std      12093.9\n",
       "min          0.0\n",
       "25%       6155.2\n",
       "50%      10701.0\n",
       "75%      19763.2\n",
       "max      69921.0\n",
       "Name: distance, dtype: float64"
      ]
     },
     "execution_count": 141,
     "metadata": {},
     "output_type": "execute_result"
    }
   ],
   "source": [
    "eu[eu.overpaid_ride_ticket == 1].distance.describe().round(1)"
   ]
  },
  {
   "cell_type": "code",
   "execution_count": 145,
   "id": "09495214-9115-489a-a164-0c507ef8d867",
   "metadata": {},
   "outputs": [
    {
     "data": {
      "text/plain": [
       "count      1386.00\n",
       "mean       9591.32\n",
       "std       10102.60\n",
       "min           0.00\n",
       "25%        3182.75\n",
       "50%        7338.50\n",
       "75%       12402.50\n",
       "max      123934.00\n",
       "Name: distance, dtype: float64"
      ]
     },
     "execution_count": 145,
     "metadata": {},
     "output_type": "execute_result"
    }
   ],
   "source": [
    "eu[eu.overpaid_ride_ticket == 0].distance.describe().round(2)"
   ]
  },
  {
   "cell_type": "code",
   "execution_count": null,
   "id": "ba75aa41-9eba-4575-9158-2906336dbb78",
   "metadata": {},
   "outputs": [],
   "source": []
  },
  {
   "cell_type": "code",
   "execution_count": 157,
   "id": "5cccdca6-4f41-4cc2-927f-3a9faa133932",
   "metadata": {},
   "outputs": [],
   "source": [
    "over_diff = eu[eu.overpaid_ride_ticket == 1].distance - eu[eu.overpaid_ride_ticket == 1].predicted_distance"
   ]
  },
  {
   "cell_type": "code",
   "execution_count": 159,
   "id": "2a266057-bdfe-4222-8c76-33c98ccc8bef",
   "metadata": {},
   "outputs": [],
   "source": [
    "non_over_diff = eu[eu.overpaid_ride_ticket == 0].distance - eu[eu.overpaid_ride_ticket == 0].predicted_distance"
   ]
  },
  {
   "cell_type": "code",
   "execution_count": 160,
   "id": "ea4d003d-d469-44cb-8798-4a6f8500828a",
   "metadata": {},
   "outputs": [
    {
     "data": {
      "text/plain": [
       "count      296.0\n",
       "mean      4498.1\n",
       "std      11118.5\n",
       "min     -40157.0\n",
       "25%       -628.2\n",
       "50%        644.0\n",
       "75%       9365.5\n",
       "max      60276.0\n",
       "dtype: float64"
      ]
     },
     "execution_count": 160,
     "metadata": {},
     "output_type": "execute_result"
    }
   ],
   "source": [
    "over_diff.describe().round(1)"
   ]
  },
  {
   "cell_type": "code",
   "execution_count": 161,
   "id": "7b86a9e1-df90-41db-9a38-b51e7415723e",
   "metadata": {},
   "outputs": [
    {
     "data": {
      "text/plain": [
       "count      1386.0\n",
       "mean       -261.2\n",
       "std       14537.2\n",
       "min     -341860.0\n",
       "25%       -1704.5\n",
       "50%           0.0\n",
       "75%        1544.0\n",
       "max      112012.0\n",
       "dtype: float64"
      ]
     },
     "execution_count": 161,
     "metadata": {},
     "output_type": "execute_result"
    }
   ],
   "source": [
    "non_over_diff.describe().round(1)"
   ]
  },
  {
   "cell_type": "markdown",
   "id": "60a284e6-39dc-45b6-a35c-2fde09f529c0",
   "metadata": {},
   "source": [
    "### Систематически завышается актуальная дистанция"
   ]
  },
  {
   "cell_type": "code",
   "execution_count": null,
   "id": "70c0bdde-5509-4790-abbd-58d3cfbf1c4a",
   "metadata": {},
   "outputs": [],
   "source": []
  },
  {
   "cell_type": "code",
   "execution_count": null,
   "id": "62e506c3-beb8-4b0d-92e2-3d153aca4f00",
   "metadata": {},
   "outputs": [],
   "source": []
  },
  {
   "cell_type": "code",
   "execution_count": 157,
   "id": "f15f8a5a-9fca-49ed-8abf-d01aa56a6449",
   "metadata": {},
   "outputs": [],
   "source": [
    "over_diff = eu[eu.overpaid_ride_ticket == 1].distance - eu[eu.overpaid_ride_ticket == 1].predicted_distance"
   ]
  },
  {
   "cell_type": "code",
   "execution_count": 159,
   "id": "f0d26e1d-dd1c-4cd1-8cb5-e96bdf1169e6",
   "metadata": {},
   "outputs": [],
   "source": [
    "non_over_diff = eu[eu.overpaid_ride_ticket == 0].distance - eu[eu.overpaid_ride_ticket == 0].predicted_distance"
   ]
  },
  {
   "cell_type": "code",
   "execution_count": 160,
   "id": "b9537df4-fcdb-4526-8531-35799e129cca",
   "metadata": {},
   "outputs": [
    {
     "data": {
      "text/plain": [
       "count      296.0\n",
       "mean      4498.1\n",
       "std      11118.5\n",
       "min     -40157.0\n",
       "25%       -628.2\n",
       "50%        644.0\n",
       "75%       9365.5\n",
       "max      60276.0\n",
       "dtype: float64"
      ]
     },
     "execution_count": 160,
     "metadata": {},
     "output_type": "execute_result"
    }
   ],
   "source": [
    "over_diff.describe().round(1)"
   ]
  },
  {
   "cell_type": "code",
   "execution_count": 161,
   "id": "fe624705-9935-4dcd-8ffc-50f9400131b8",
   "metadata": {},
   "outputs": [
    {
     "data": {
      "text/plain": [
       "count      1386.0\n",
       "mean       -261.2\n",
       "std       14537.2\n",
       "min     -341860.0\n",
       "25%       -1704.5\n",
       "50%           0.0\n",
       "75%        1544.0\n",
       "max      112012.0\n",
       "dtype: float64"
      ]
     },
     "execution_count": 161,
     "metadata": {},
     "output_type": "execute_result"
    }
   ],
   "source": [
    "non_over_diff.describe().round(1)"
   ]
  },
  {
   "cell_type": "markdown",
   "id": "9c79007f-961f-4be5-a835-7f87e62d0cf2",
   "metadata": {},
   "source": [
    "А длительность вроде не сильно увеличивается"
   ]
  },
  {
   "cell_type": "code",
   "execution_count": 177,
   "id": "2e54b0ce-3410-40db-974c-863079a37bb6",
   "metadata": {},
   "outputs": [],
   "source": [
    "over_diff = eu[eu.overpaid_ride_ticket == 1].duration - eu[eu.overpaid_ride_ticket == 1].predicted_duration"
   ]
  },
  {
   "cell_type": "code",
   "execution_count": 178,
   "id": "800163d5-395c-4931-b8b8-53151b9f8b96",
   "metadata": {},
   "outputs": [],
   "source": [
    "non_over_diff = eu[eu.overpaid_ride_ticket == 0].duration - eu[eu.overpaid_ride_ticket == 0].predicted_duration"
   ]
  },
  {
   "cell_type": "code",
   "execution_count": 179,
   "id": "094af042-025d-4db3-b205-02fd01e3a4c9",
   "metadata": {},
   "outputs": [
    {
     "data": {
      "text/plain": [
       "count     296.0\n",
       "mean      715.8\n",
       "std      1427.5\n",
       "min     -2757.0\n",
       "25%       -65.5\n",
       "50%       473.5\n",
       "75%      1165.8\n",
       "max      8962.0\n",
       "dtype: float64"
      ]
     },
     "execution_count": 179,
     "metadata": {},
     "output_type": "execute_result"
    }
   ],
   "source": [
    "over_diff.describe().round(1)"
   ]
  },
  {
   "cell_type": "code",
   "execution_count": 180,
   "id": "9cd71b5c-ddab-4015-8a65-1b77653e4781",
   "metadata": {},
   "outputs": [
    {
     "data": {
      "text/plain": [
       "count     1386.0\n",
       "mean       753.8\n",
       "std       2035.0\n",
       "min     -20081.0\n",
       "25%        -90.5\n",
       "50%        370.0\n",
       "75%       1281.8\n",
       "max      18086.0\n",
       "dtype: float64"
      ]
     },
     "execution_count": 180,
     "metadata": {},
     "output_type": "execute_result"
    }
   ],
   "source": [
    "non_over_diff.describe().round(1)"
   ]
  },
  {
   "cell_type": "markdown",
   "id": "727347cb-4ad2-4486-8e6c-ffafa3883a74",
   "metadata": {},
   "source": [
    "сравним eu and non eu. Не особо отличаются."
   ]
  },
  {
   "cell_type": "code",
   "execution_count": 113,
   "id": "29ba33ca-b23f-43af-8df9-538d6076130a",
   "metadata": {},
   "outputs": [],
   "source": [
    "eu_diff = df[df.eu_indicator == 1].distance - df[df.eu_indicator == 1].predicted_distance"
   ]
  },
  {
   "cell_type": "code",
   "execution_count": 114,
   "id": "3b62a9e5-31c9-4c78-bc56-d6ea98d0c12d",
   "metadata": {},
   "outputs": [],
   "source": [
    "non_eu_diff = df[df.eu_indicator == 0].distance - df[df.eu_indicator == 0].predicted_distance"
   ]
  },
  {
   "cell_type": "code",
   "execution_count": 115,
   "id": "9217a36c-8000-4ed2-b66a-c568722b1278",
   "metadata": {},
   "outputs": [
    {
     "data": {
      "text/plain": [
       "count     2465.0\n",
       "mean       837.3\n",
       "std       4599.5\n",
       "min     -47413.0\n",
       "25%       -173.0\n",
       "50%        202.0\n",
       "75%       1482.0\n",
       "max      48915.0\n",
       "dtype: float64"
      ]
     },
     "execution_count": 115,
     "metadata": {},
     "output_type": "execute_result"
    }
   ],
   "source": [
    "eu_diff.describe().round(1)"
   ]
  },
  {
   "cell_type": "code",
   "execution_count": 116,
   "id": "b6a2db6d-bc42-4992-a90d-bf0ebed9de3a",
   "metadata": {},
   "outputs": [
    {
     "data": {
      "text/plain": [
       "count      1682.0\n",
       "mean        576.3\n",
       "std       14110.2\n",
       "min     -341860.0\n",
       "25%       -1453.8\n",
       "50%          45.5\n",
       "75%        2049.8\n",
       "max      112012.0\n",
       "dtype: float64"
      ]
     },
     "execution_count": 116,
     "metadata": {},
     "output_type": "execute_result"
    }
   ],
   "source": [
    "non_eu_diff.describe().round(1)"
   ]
  },
  {
   "cell_type": "markdown",
   "id": "a0bfed2b-3f85-42f9-8b38-bbf54a38e536",
   "metadata": {},
   "source": [
    "люди чаще возмущаются, когда цена выставляется не заранее, а по предсказанию. И цена почти в 2 раза чаще вычисляется предсказанием."
   ]
  },
  {
   "cell_type": "code",
   "execution_count": 225,
   "id": "8c2fdebf-5765-4c3d-a7e5-62cf48229282",
   "metadata": {},
   "outputs": [
    {
     "data": {
      "text/plain": [
       "prediction_price_type        overpaid_ride_ticket\n",
       "prediction                   0                       794\n",
       "                             1                       203\n",
       "upfront                      0                       582\n",
       "                             1                        90\n",
       "upfront_destination_changed  0                        10\n",
       "                             1                         3\n",
       "Name: overpaid_ride_ticket, dtype: int64"
      ]
     },
     "execution_count": 225,
     "metadata": {},
     "output_type": "execute_result"
    }
   ],
   "source": [
    "eu.groupby('prediction_price_type').overpaid_ride_ticket.value_counts().round(2)"
   ]
  },
  {
   "cell_type": "code",
   "execution_count": null,
   "id": "fb946b3b-e7b5-4a45-9c89-862adff75440",
   "metadata": {},
   "outputs": [],
   "source": []
  },
  {
   "cell_type": "markdown",
   "id": "b473011a-392c-4892-b5cf-f5d1f46ae152",
   "metadata": {},
   "source": [
    "Нет, часы, кажется, не влияют."
   ]
  },
  {
   "cell_type": "code",
   "execution_count": 63,
   "id": "3909ceaa-60f8-4aca-ae27-d58d8c1894f2",
   "metadata": {},
   "outputs": [],
   "source": [
    "line1 = eu[eu.overpaid_ride_ticket == 0].hour.value_counts(normalize=True).reset_index().rename(columns={'hour': 'percent', 'index': 'hour'}).sort_values('hour')\n",
    "line2 = eu[eu.overpaid_ride_ticket == 1].hour.value_counts(normalize=True).reset_index().rename(columns={'hour': 'percent', 'index': 'hour'}).sort_values('hour')"
   ]
  },
  {
   "cell_type": "code",
   "execution_count": 78,
   "id": "370bd467-2e02-4317-ba84-d90c271c1443",
   "metadata": {},
   "outputs": [
    {
     "data": {
      "image/png": "[encoded data removed]",
      "text/plain": [
       "<Figure size 640x480 with 1 Axes>"
      ]
     },
     "metadata": {},
     "output_type": "display_data"
    }
   ],
   "source": [
    "line_mean = eu.groupby('hour').overpaid_ride_ticket.mean().reset_index().sort_values('hour')\n",
    "plt.plot(line_mean.hour, line_mean.overpaid_ride_ticket)\n",
    "plt.grid()\n",
    "plt.title('Вероятность overpaid')\n",
    "plt.show()"
   ]
  },
  {
   "cell_type": "code",
   "execution_count": 81,
   "id": "41f75572-2c2a-4ae5-bf4d-a33d1472886c",
   "metadata": {},
   "outputs": [
    {
     "data": {
      "image/png": "[encoded data removed]",
      "text/plain": [
       "<Figure size 640x480 with 1 Axes>"
      ]
     },
     "metadata": {},
     "output_type": "display_data"
    }
   ],
   "source": [
    "line_count = eu.groupby('hour').overpaid_ride_ticket.count().reset_index().sort_values('hour')\n",
    "plt.plot(line_count.hour, line_count.overpaid_ride_ticket)\n",
    "plt.grid()\n",
    "plt.title('Кол-во поездок')\n",
    "plt.show()"
   ]
  },
  {
   "cell_type": "markdown",
   "id": "da74b62f-5763-41f7-beba-a84d94dcefd6",
   "metadata": {},
   "source": [
    "fraud"
   ]
  },
  {
   "cell_type": "code",
   "execution_count": 109,
   "id": "9dbd4a8a-ed8c-497a-834a-3fd1dc47da8a",
   "metadata": {},
   "outputs": [
    {
     "data": {
      "text/plain": [
       "53"
      ]
     },
     "execution_count": 109,
     "metadata": {},
     "output_type": "execute_result"
    }
   ],
   "source": [
    "eu.fraud_score.notna().sum()"
   ]
  },
  {
   "cell_type": "code",
   "execution_count": 110,
   "id": "7ec1846f-9b1a-472c-baf3-9d4f0d29be8f",
   "metadata": {},
   "outputs": [
    {
     "data": {
      "image/png": "[encoded data removed]",
      "text/plain": [
       "<Figure size 640x480 with 1 Axes>"
      ]
     },
     "metadata": {},
     "output_type": "display_data"
    }
   ],
   "source": [
    "df.fraud_score.hist()\n",
    "plt.show()"
   ]
  },
  {
   "cell_type": "code",
   "execution_count": null,
   "id": "fb6aa8a9-93d8-4a78-8f65-d86423014f52",
   "metadata": {},
   "outputs": [],
   "source": []
  },
  {
   "cell_type": "markdown",
   "id": "2848a435-3dfd-4e40-b820-d1895f38bf60",
   "metadata": {},
   "source": [
    "driverapp"
   ]
  },
  {
   "cell_type": "code",
   "execution_count": 82,
   "id": "9a244da8-591c-4b79-a47d-92928a024082",
   "metadata": {},
   "outputs": [],
   "source": [
    "\n",
    "app = eu.groupby('driver_app_version').overpaid_ride_ticket.agg([pd.Series.count, pd.Series.mean]).round(2).reset_index()\n",
    "# .sort_values(\"mean\", ascending=False)"
   ]
  },
  {
   "cell_type": "code",
   "execution_count": 91,
   "id": "e32364ca-18c8-4550-a3ea-d3905d677ab8",
   "metadata": {},
   "outputs": [],
   "source": [
    "app['num'] = app.driver_app_version.str.slice(3).sort_values()"
   ]
  },
  {
   "cell_type": "code",
   "execution_count": 93,
   "id": "167fc8c6-32ce-4df8-8536-84a40e31a84f",
   "metadata": {},
   "outputs": [],
   "source": [
    "app = app.sort_values('num')"
   ]
  },
  {
   "cell_type": "code",
   "execution_count": 104,
   "id": "d731eb68-4acc-44c7-a93a-2bf71b03cab9",
   "metadata": {},
   "outputs": [
    {
     "data": {
      "image/png": "[encoded data removed]",
      "text/plain": [
       "<Figure size 640x480 with 1 Axes>"
      ]
     },
     "metadata": {},
     "output_type": "display_data"
    }
   ],
   "source": [
    "plt.bar(x=app.driver_app_version, height=app['mean'])\n",
    "plt.xticks(rotation=90)\n",
    "plt.show()"
   ]
  },
  {
   "cell_type": "code",
   "execution_count": 105,
   "id": "ec072ca7-97df-4c9d-8af2-a1910acc64a8",
   "metadata": {},
   "outputs": [
    {
     "data": {
      "image/png": "[encoded data removed]",
      "text/plain": [
       "<Figure size 640x480 with 1 Axes>"
      ]
     },
     "metadata": {},
     "output_type": "display_data"
    }
   ],
   "source": [
    "plt.bar(x=app.driver_app_version, height=app['count'])\n",
    "plt.xticks(rotation=90)\n",
    "plt.show()"
   ]
  },
  {
   "cell_type": "markdown",
   "id": "b87a51a5-3a18-4fde-aebe-28aef66ed57e",
   "metadata": {},
   "source": [
    "отследить водителей по driver_device_uid_new"
   ]
  },
  {
   "cell_type": "markdown",
   "id": "edab5b8a-5bbe-46e1-b303-a8fd45f74085",
   "metadata": {},
   "source": [
    "### Возможные косвенные причины, почему не в Европе может быть больше переплат"
   ]
  },
  {
   "cell_type": "markdown",
   "id": "32be53cc-4cb7-4a87-9bb2-c8bfab9d720e",
   "metadata": {},
   "source": [
    "Поездки более длительные."
   ]
  },
  {
   "cell_type": "code",
   "execution_count": 217,
   "id": "4487b542-b355-4916-81af-a6f0f4987469",
   "metadata": {},
   "outputs": [
    {
     "data": {
      "text/plain": [
       "count      1682.0\n",
       "mean      10410.2\n",
       "std       10625.5\n",
       "min           0.0\n",
       "25%        3575.5\n",
       "50%        7989.0\n",
       "75%       13203.2\n",
       "max      123934.0\n",
       "Name: distance, dtype: float64"
      ]
     },
     "execution_count": 217,
     "metadata": {},
     "output_type": "execute_result"
    }
   ],
   "source": [
    "df[df.eu_indicator == 0].distance.describe().round(1)"
   ]
  },
  {
   "cell_type": "code",
   "execution_count": 218,
   "id": "72959559-071c-4ba5-9c98-bef5852b8a20",
   "metadata": {},
   "outputs": [
    {
     "data": {
      "text/plain": [
       "count      2484.0\n",
       "mean       8854.5\n",
       "std       10812.2\n",
       "min           0.0\n",
       "25%        3789.8\n",
       "50%        6403.5\n",
       "75%       10663.5\n",
       "max      233190.0\n",
       "Name: distance, dtype: float64"
      ]
     },
     "execution_count": 218,
     "metadata": {},
     "output_type": "execute_result"
    }
   ],
   "source": [
    "df[df.eu_indicator == 1].distance.describe().round(1)"
   ]
  },
  {
   "cell_type": "code",
   "execution_count": 112,
   "id": "0502b0fd-f949-4c2a-bf75-3cee74ae023d",
   "metadata": {},
   "outputs": [
    {
     "data": {
      "text/plain": [
       "eu_indicator  gps_confidence\n",
       "0             1                 0.61\n",
       "              0                 0.39\n",
       "1             1                 0.96\n",
       "              0                 0.04\n",
       "Name: gps_confidence, dtype: float64"
      ]
     },
     "execution_count": 112,
     "metadata": {},
     "output_type": "execute_result"
    }
   ],
   "source": [
    "df.groupby('eu_indicator').gps_confidence.value_counts(normalize=True).round(2)"
   ]
  },
  {
   "cell_type": "code",
   "execution_count": 77,
   "id": "d96398f2-4732-4710-a3ec-94b4dd86c6f8",
   "metadata": {},
   "outputs": [
    {
     "data": {
      "text/plain": [
       "eu_indicator\n",
       "0    0.18\n",
       "1    0.01\n",
       "Name: overpaid_ride_ticket, dtype: float64"
      ]
     },
     "execution_count": 77,
     "metadata": {},
     "output_type": "execute_result"
    }
   ],
   "source": [
    "df.groupby('eu_indicator').overpaid_ride_ticket.mean().round(2)"
   ]
  },
  {
   "cell_type": "code",
   "execution_count": 77,
   "id": "465d3abe-de7a-4e88-8292-89d4e844f392",
   "metadata": {},
   "outputs": [
    {
     "data": {
      "text/plain": [
       "eu_indicator\n",
       "0    0.18\n",
       "1    0.01\n",
       "Name: overpaid_ride_ticket, dtype: float64"
      ]
     },
     "execution_count": 77,
     "metadata": {},
     "output_type": "execute_result"
    }
   ],
   "source": [
    "df.groupby('eu_indicator').overpaid_ride_ticket.mean().round(2)"
   ]
  },
  {
   "cell_type": "markdown",
   "id": "6a1f6852-8c8c-4e4b-8c19-9cfc286dbf27",
   "metadata": {},
   "source": [
    "Между Европой и не Европой отличается, что в Европе цена сильнее привязана к длительности поездки. И upfront в Европе сильно привязана к итоговой цене."
   ]
  },
  {
   "cell_type": "code",
   "execution_count": 141,
   "id": "c4ce8994-8d68-4d61-8059-3dac541c2292",
   "metadata": {},
   "outputs": [
    {
     "data": {
      "text/plain": [
       "gps_confidence          -0.108967\n",
       "driver_device_uid_new   -0.039324\n",
       "month                   -0.021148\n",
       "order_id_new            -0.016272\n",
       "order_try_id_new        -0.016271\n",
       "hour                    -0.002962\n",
       "cnt                      0.017028\n",
       "overpaid_ride_ticket     0.055566\n",
       "fraud_score              0.061567\n",
       "dest_change_number       0.281349\n",
       "predicted_duration       0.738075\n",
       "predicted_distance       0.782791\n",
       "duration                 0.844615\n",
       "upfront_price            0.895811\n",
       "distance                 0.911133\n",
       "metered_price            1.000000\n",
       "device_token                  NaN\n",
       "eu_indicator                  NaN\n",
       "Name: metered_price, dtype: float64"
      ]
     },
     "execution_count": 141,
     "metadata": {},
     "output_type": "execute_result"
    }
   ],
   "source": [
    "df[df.eu_indicator == 1].corr()['metered_price'].sort_values()"
   ]
  },
  {
   "cell_type": "code",
   "execution_count": 142,
   "id": "23c0c228-c22e-4460-b99a-bca607dfbb47",
   "metadata": {},
   "outputs": [
    {
     "data": {
      "text/plain": [
       "gps_confidence          -0.251502\n",
       "fraud_score             -0.163955\n",
       "month                   -0.077670\n",
       "driver_device_uid_new   -0.073789\n",
       "order_try_id_new        -0.073358\n",
       "order_id_new            -0.073355\n",
       "hour                     0.022013\n",
       "cnt                      0.049362\n",
       "dest_change_number       0.097146\n",
       "overpaid_ride_ticket     0.121605\n",
       "upfront_price            0.227041\n",
       "predicted_distance       0.319781\n",
       "predicted_duration       0.379433\n",
       "duration                 0.533563\n",
       "distance                 0.897103\n",
       "metered_price            1.000000\n",
       "device_token                  NaN\n",
       "eu_indicator                  NaN\n",
       "Name: metered_price, dtype: float64"
      ]
     },
     "execution_count": 142,
     "metadata": {},
     "output_type": "execute_result"
    }
   ],
   "source": [
    "df[df.eu_indicator == 0].corr()['metered_price'].sort_values()"
   ]
  },
  {
   "cell_type": "code",
   "execution_count": 148,
   "id": "8ee82862-8d2c-403d-85e8-7f1be0e93ddf",
   "metadata": {},
   "outputs": [],
   "source": [
    "cor_cols = ['metered_price', 'upfront_price', 'distance', 'duration', 'gps_confidence', 'predicted_distance', 'predicted_duration']"
   ]
  },
  {
   "cell_type": "code",
   "execution_count": 150,
   "id": "020e5ca5-08d5-4480-9ae9-c54b8fd5a08d",
   "metadata": {},
   "outputs": [
    {
     "data": {
      "text/html": [
       "<div>\n",
       "<style scoped>\n",
       "    .dataframe tbody tr th:only-of-type {\n",
       "        vertical-align: middle;\n",
       "    }\n",
       "\n",
       "    .dataframe tbody tr th {\n",
       "        vertical-align: top;\n",
       "    }\n",
       "\n",
       "    .dataframe thead th {\n",
       "        text-align: right;\n",
       "    }\n",
       "</style>\n",
       "<table border=\"1\" class=\"dataframe\">\n",
       "  <thead>\n",
       "    <tr style=\"text-align: right;\">\n",
       "      <th></th>\n",
       "      <th>metered_price</th>\n",
       "      <th>upfront_price</th>\n",
       "      <th>distance</th>\n",
       "      <th>duration</th>\n",
       "      <th>gps_confidence</th>\n",
       "      <th>predicted_distance</th>\n",
       "      <th>predicted_duration</th>\n",
       "    </tr>\n",
       "  </thead>\n",
       "  <tbody>\n",
       "    <tr>\n",
       "      <th>metered_price</th>\n",
       "      <td>1.00</td>\n",
       "      <td>0.23</td>\n",
       "      <td>0.90</td>\n",
       "      <td>0.53</td>\n",
       "      <td>-0.25</td>\n",
       "      <td>0.32</td>\n",
       "      <td>0.38</td>\n",
       "    </tr>\n",
       "    <tr>\n",
       "      <th>upfront_price</th>\n",
       "      <td>0.23</td>\n",
       "      <td>1.00</td>\n",
       "      <td>0.19</td>\n",
       "      <td>0.11</td>\n",
       "      <td>-0.04</td>\n",
       "      <td>0.97</td>\n",
       "      <td>0.90</td>\n",
       "    </tr>\n",
       "    <tr>\n",
       "      <th>distance</th>\n",
       "      <td>0.90</td>\n",
       "      <td>0.19</td>\n",
       "      <td>1.00</td>\n",
       "      <td>0.46</td>\n",
       "      <td>-0.28</td>\n",
       "      <td>0.30</td>\n",
       "      <td>0.39</td>\n",
       "    </tr>\n",
       "    <tr>\n",
       "      <th>duration</th>\n",
       "      <td>0.53</td>\n",
       "      <td>0.11</td>\n",
       "      <td>0.46</td>\n",
       "      <td>1.00</td>\n",
       "      <td>-0.24</td>\n",
       "      <td>0.22</td>\n",
       "      <td>0.36</td>\n",
       "    </tr>\n",
       "    <tr>\n",
       "      <th>gps_confidence</th>\n",
       "      <td>-0.25</td>\n",
       "      <td>-0.04</td>\n",
       "      <td>-0.28</td>\n",
       "      <td>-0.24</td>\n",
       "      <td>1.00</td>\n",
       "      <td>-0.08</td>\n",
       "      <td>-0.13</td>\n",
       "    </tr>\n",
       "    <tr>\n",
       "      <th>predicted_distance</th>\n",
       "      <td>0.32</td>\n",
       "      <td>0.97</td>\n",
       "      <td>0.30</td>\n",
       "      <td>0.22</td>\n",
       "      <td>-0.08</td>\n",
       "      <td>1.00</td>\n",
       "      <td>0.91</td>\n",
       "    </tr>\n",
       "    <tr>\n",
       "      <th>predicted_duration</th>\n",
       "      <td>0.38</td>\n",
       "      <td>0.90</td>\n",
       "      <td>0.39</td>\n",
       "      <td>0.36</td>\n",
       "      <td>-0.13</td>\n",
       "      <td>0.91</td>\n",
       "      <td>1.00</td>\n",
       "    </tr>\n",
       "  </tbody>\n",
       "</table>\n",
       "</div>"
      ],
      "text/plain": [
       "                    metered_price  upfront_price  distance  duration  \\\n",
       "metered_price                1.00           0.23      0.90      0.53   \n",
       "upfront_price                0.23           1.00      0.19      0.11   \n",
       "distance                     0.90           0.19      1.00      0.46   \n",
       "duration                     0.53           0.11      0.46      1.00   \n",
       "gps_confidence              -0.25          -0.04     -0.28     -0.24   \n",
       "predicted_distance           0.32           0.97      0.30      0.22   \n",
       "predicted_duration           0.38           0.90      0.39      0.36   \n",
       "\n",
       "                    gps_confidence  predicted_distance  predicted_duration  \n",
       "metered_price                -0.25                0.32                0.38  \n",
       "upfront_price                -0.04                0.97                0.90  \n",
       "distance                     -0.28                0.30                0.39  \n",
       "duration                     -0.24                0.22                0.36  \n",
       "gps_confidence                1.00               -0.08               -0.13  \n",
       "predicted_distance           -0.08                1.00                0.91  \n",
       "predicted_duration           -0.13                0.91                1.00  "
      ]
     },
     "execution_count": 150,
     "metadata": {},
     "output_type": "execute_result"
    }
   ],
   "source": [
    "df[df.eu_indicator == 0][cor_cols].corr().round(2)"
   ]
  },
  {
   "cell_type": "code",
   "execution_count": 149,
   "id": "5e94a22b-af40-4f99-9138-346815e6c8ff",
   "metadata": {},
   "outputs": [
    {
     "data": {
      "text/html": [
       "<div>\n",
       "<style scoped>\n",
       "    .dataframe tbody tr th:only-of-type {\n",
       "        vertical-align: middle;\n",
       "    }\n",
       "\n",
       "    .dataframe tbody tr th {\n",
       "        vertical-align: top;\n",
       "    }\n",
       "\n",
       "    .dataframe thead th {\n",
       "        text-align: right;\n",
       "    }\n",
       "</style>\n",
       "<table border=\"1\" class=\"dataframe\">\n",
       "  <thead>\n",
       "    <tr style=\"text-align: right;\">\n",
       "      <th></th>\n",
       "      <th>metered_price</th>\n",
       "      <th>upfront_price</th>\n",
       "      <th>distance</th>\n",
       "      <th>duration</th>\n",
       "      <th>gps_confidence</th>\n",
       "      <th>predicted_distance</th>\n",
       "      <th>predicted_duration</th>\n",
       "    </tr>\n",
       "  </thead>\n",
       "  <tbody>\n",
       "    <tr>\n",
       "      <th>metered_price</th>\n",
       "      <td>1.00</td>\n",
       "      <td>0.90</td>\n",
       "      <td>0.91</td>\n",
       "      <td>0.84</td>\n",
       "      <td>-0.11</td>\n",
       "      <td>0.78</td>\n",
       "      <td>0.74</td>\n",
       "    </tr>\n",
       "    <tr>\n",
       "      <th>upfront_price</th>\n",
       "      <td>0.90</td>\n",
       "      <td>1.00</td>\n",
       "      <td>0.87</td>\n",
       "      <td>0.67</td>\n",
       "      <td>-0.05</td>\n",
       "      <td>0.93</td>\n",
       "      <td>0.87</td>\n",
       "    </tr>\n",
       "    <tr>\n",
       "      <th>distance</th>\n",
       "      <td>0.91</td>\n",
       "      <td>0.87</td>\n",
       "      <td>1.00</td>\n",
       "      <td>0.76</td>\n",
       "      <td>-0.08</td>\n",
       "      <td>0.91</td>\n",
       "      <td>0.81</td>\n",
       "    </tr>\n",
       "    <tr>\n",
       "      <th>duration</th>\n",
       "      <td>0.84</td>\n",
       "      <td>0.67</td>\n",
       "      <td>0.76</td>\n",
       "      <td>1.00</td>\n",
       "      <td>-0.17</td>\n",
       "      <td>0.63</td>\n",
       "      <td>0.68</td>\n",
       "    </tr>\n",
       "    <tr>\n",
       "      <th>gps_confidence</th>\n",
       "      <td>-0.11</td>\n",
       "      <td>-0.05</td>\n",
       "      <td>-0.08</td>\n",
       "      <td>-0.17</td>\n",
       "      <td>1.00</td>\n",
       "      <td>-0.06</td>\n",
       "      <td>-0.07</td>\n",
       "    </tr>\n",
       "    <tr>\n",
       "      <th>predicted_distance</th>\n",
       "      <td>0.78</td>\n",
       "      <td>0.93</td>\n",
       "      <td>0.91</td>\n",
       "      <td>0.63</td>\n",
       "      <td>-0.06</td>\n",
       "      <td>1.00</td>\n",
       "      <td>0.90</td>\n",
       "    </tr>\n",
       "    <tr>\n",
       "      <th>predicted_duration</th>\n",
       "      <td>0.74</td>\n",
       "      <td>0.87</td>\n",
       "      <td>0.81</td>\n",
       "      <td>0.68</td>\n",
       "      <td>-0.07</td>\n",
       "      <td>0.90</td>\n",
       "      <td>1.00</td>\n",
       "    </tr>\n",
       "  </tbody>\n",
       "</table>\n",
       "</div>"
      ],
      "text/plain": [
       "                    metered_price  upfront_price  distance  duration  \\\n",
       "metered_price                1.00           0.90      0.91      0.84   \n",
       "upfront_price                0.90           1.00      0.87      0.67   \n",
       "distance                     0.91           0.87      1.00      0.76   \n",
       "duration                     0.84           0.67      0.76      1.00   \n",
       "gps_confidence              -0.11          -0.05     -0.08     -0.17   \n",
       "predicted_distance           0.78           0.93      0.91      0.63   \n",
       "predicted_duration           0.74           0.87      0.81      0.68   \n",
       "\n",
       "                    gps_confidence  predicted_distance  predicted_duration  \n",
       "metered_price                -0.11                0.78                0.74  \n",
       "upfront_price                -0.05                0.93                0.87  \n",
       "distance                     -0.08                0.91                0.81  \n",
       "duration                     -0.17                0.63                0.68  \n",
       "gps_confidence                1.00               -0.06               -0.07  \n",
       "predicted_distance           -0.06                1.00                0.90  \n",
       "predicted_duration           -0.07                0.90                1.00  "
      ]
     },
     "execution_count": 149,
     "metadata": {},
     "output_type": "execute_result"
    }
   ],
   "source": [
    "df[df.eu_indicator == 1][cor_cols].corr().round(2)"
   ]
  },
  {
   "cell_type": "markdown",
   "id": "9015278a-73ec-4528-8b59-25d873e1761b",
   "metadata": {},
   "source": [
    "цены аналогичные"
   ]
  },
  {
   "cell_type": "code",
   "execution_count": 66,
   "id": "11bbb178-ba01-452e-8c98-f2ded1c196af",
   "metadata": {},
   "outputs": [],
   "source": [
    "price0 = df[df.eu_indicator == 0].metered_price\n",
    "price1 = df[df.eu_indicator == 1].metered_price"
   ]
  },
  {
   "cell_type": "code",
   "execution_count": 68,
   "id": "dbc9afbe-044d-406f-8379-87632b5b9566",
   "metadata": {},
   "outputs": [],
   "source": [
    "price0 = (price0 - price0.mean()) / price0.std()\n",
    "price1 = (price1 - price1.mean()) / price1.std()"
   ]
  },
  {
   "cell_type": "code",
   "execution_count": 72,
   "id": "102d1979-7be8-4071-a082-8e741f62f6b3",
   "metadata": {},
   "outputs": [
    {
     "data": {
      "text/plain": [
       "count    1682.000\n",
       "mean       -0.000\n",
       "std         1.000\n",
       "min        -0.828\n",
       "25%        -0.612\n",
       "50%        -0.279\n",
       "75%         0.151\n",
       "max         9.596\n",
       "Name: metered_price, dtype: float64"
      ]
     },
     "execution_count": 72,
     "metadata": {},
     "output_type": "execute_result"
    }
   ],
   "source": [
    "price0.describe().round(3)"
   ]
  },
  {
   "cell_type": "code",
   "execution_count": 73,
   "id": "0474c94b-8ba3-482f-9b33-e83f3ee7fa7e",
   "metadata": {},
   "outputs": [
    {
     "data": {
      "text/plain": [
       "count    2465.000\n",
       "mean       -0.000\n",
       "std         1.000\n",
       "min        -0.802\n",
       "25%        -0.514\n",
       "50%        -0.244\n",
       "75%         0.167\n",
       "max        16.075\n",
       "Name: metered_price, dtype: float64"
      ]
     },
     "execution_count": 73,
     "metadata": {},
     "output_type": "execute_result"
    }
   ],
   "source": [
    "price1.describe().round(3)"
   ]
  },
  {
   "cell_type": "markdown",
   "id": "bad0814c-b390-4add-b35d-2f6170fd315d",
   "metadata": {},
   "source": [
    "### управление настроением"
   ]
  },
  {
   "cell_type": "markdown",
   "id": "b4606a02-6f1a-427a-b9aa-9906ea7e3372",
   "metadata": {},
   "source": [
    "насколько люди расстраиваются из-за несоответствий с расстоянием в зависимости от  prediction_price_type"
   ]
  },
  {
   "cell_type": "code",
   "execution_count": 124,
   "id": "e63f8d9b-618b-4b9a-a445-b1173ab33058",
   "metadata": {},
   "outputs": [
    {
     "data": {
      "text/plain": [
       "count    2465.00\n",
       "mean        7.58\n",
       "std         6.96\n",
       "min         2.00\n",
       "25%         4.00\n",
       "50%         5.88\n",
       "75%         8.74\n",
       "max       119.43\n",
       "Name: metered_price, dtype: float64"
      ]
     },
     "execution_count": 124,
     "metadata": {},
     "output_type": "execute_result"
    }
   ],
   "source": [
    "df[df.eu_indicator == 1].metered_price.describe().round(2)"
   ]
  },
  {
   "cell_type": "code",
   "execution_count": 125,
   "id": "920b80c4-eb7a-43fc-9a7b-889463c0b7a6",
   "metadata": {},
   "outputs": [
    {
     "data": {
      "text/plain": [
       "count      1682.00\n",
       "mean      17294.73\n",
       "std       18464.66\n",
       "min        2000.00\n",
       "25%        6000.00\n",
       "50%       12142.59\n",
       "75%       20084.58\n",
       "max      194483.52\n",
       "Name: metered_price, dtype: float64"
      ]
     },
     "execution_count": 125,
     "metadata": {},
     "output_type": "execute_result"
    }
   ],
   "source": [
    "df[df.eu_indicator == 0].metered_price.describe().round(2)"
   ]
  },
  {
   "cell_type": "code",
   "execution_count": 133,
   "id": "2692b41e-430b-4b37-ae92-b663ca4234b4",
   "metadata": {},
   "outputs": [
    {
     "data": {
      "text/plain": [
       "overpaid_ride_ticket  prediction_price_type      \n",
       "0                     prediction                         0.0\n",
       "                      upfront                          109.5\n",
       "                      upfront_destination_changed     6285.5\n",
       "1                     prediction                       616.0\n",
       "                      upfront                          626.5\n",
       "                      upfront_destination_changed    20673.0\n",
       "Name: over_distance, dtype: float64"
      ]
     },
     "execution_count": 133,
     "metadata": {},
     "output_type": "execute_result"
    }
   ],
   "source": [
    "eu.groupby(['overpaid_ride_ticket', 'prediction_price_type']).over_distance.agg(np.median).round(2)"
   ]
  },
  {
   "cell_type": "code",
   "execution_count": 134,
   "id": "faed31d6-4ce0-4996-8e1c-f1c138304ae2",
   "metadata": {},
   "outputs": [
    {
     "data": {
      "text/plain": [
       "prediction_price_type        overpaid_ride_ticket\n",
       "prediction                   0                           0.0\n",
       "                             1                         616.0\n",
       "upfront                      0                         109.5\n",
       "                             1                         626.5\n",
       "upfront_destination_changed  0                        6285.5\n",
       "                             1                       20673.0\n",
       "Name: over_distance, dtype: float64"
      ]
     },
     "execution_count": 134,
     "metadata": {},
     "output_type": "execute_result"
    }
   ],
   "source": [
    "eu.groupby(['prediction_price_type', 'overpaid_ride_ticket']).over_distance.agg(np.median).round(2)"
   ]
  },
  {
   "cell_type": "code",
   "execution_count": null,
   "id": "518a8a9b-2ea0-4c74-9889-78f83af18d16",
   "metadata": {},
   "outputs": [],
   "source": []
  },
  {
   "cell_type": "code",
   "execution_count": null,
   "id": "7347eebe-808e-4d27-a294-88810553d003",
   "metadata": {},
   "outputs": [],
   "source": []
  },
  {
   "cell_type": "markdown",
   "id": "bb3d4046-0895-4ad7-bd39-58b1b3955d24",
   "metadata": {},
   "source": [
    "вроде лучше строить регрессию, чем оценивать корреляции отдельно"
   ]
  },
  {
   "cell_type": "code",
   "execution_count": 159,
   "id": "4026135d-00a8-4054-a5c8-1640de03b972",
   "metadata": {},
   "outputs": [],
   "source": [
    "from sklearn.linear_model import LinearRegression"
   ]
  },
  {
   "cell_type": "code",
   "execution_count": 160,
   "id": "b5ae8867-18a3-4437-bb39-12ccccc95399",
   "metadata": {},
   "outputs": [],
   "source": [
    "lr = LinearRegression()"
   ]
  },
  {
   "cell_type": "code",
   "execution_count": 166,
   "id": "5ccc4764-fec0-48d1-8aa7-2c06636b3748",
   "metadata": {},
   "outputs": [
    {
     "data": {
      "text/html": [
       "<div>\n",
       "<style scoped>\n",
       "    .dataframe tbody tr th:only-of-type {\n",
       "        vertical-align: middle;\n",
       "    }\n",
       "\n",
       "    .dataframe tbody tr th {\n",
       "        vertical-align: top;\n",
       "    }\n",
       "\n",
       "    .dataframe thead th {\n",
       "        text-align: right;\n",
       "    }\n",
       "</style>\n",
       "<table border=\"1\" class=\"dataframe\">\n",
       "  <thead>\n",
       "    <tr style=\"text-align: right;\">\n",
       "      <th></th>\n",
       "      <th>upfront_price</th>\n",
       "      <th>distance</th>\n",
       "      <th>duration</th>\n",
       "      <th>gps_confidence</th>\n",
       "      <th>predicted_distance</th>\n",
       "      <th>predicted_duration</th>\n",
       "    </tr>\n",
       "  </thead>\n",
       "  <tbody>\n",
       "    <tr>\n",
       "      <th>0</th>\n",
       "      <td>10.0</td>\n",
       "      <td>2839</td>\n",
       "      <td>700</td>\n",
       "      <td>1</td>\n",
       "      <td>13384.0</td>\n",
       "      <td>1091.0</td>\n",
       "    </tr>\n",
       "    <tr>\n",
       "      <th>1</th>\n",
       "      <td>3.6</td>\n",
       "      <td>5698</td>\n",
       "      <td>493</td>\n",
       "      <td>1</td>\n",
       "      <td>2286.0</td>\n",
       "      <td>360.0</td>\n",
       "    </tr>\n",
       "    <tr>\n",
       "      <th>2</th>\n",
       "      <td>3.5</td>\n",
       "      <td>4426</td>\n",
       "      <td>695</td>\n",
       "      <td>1</td>\n",
       "      <td>4101.0</td>\n",
       "      <td>433.0</td>\n",
       "    </tr>\n",
       "    <tr>\n",
       "      <th>5</th>\n",
       "      <td>6.3</td>\n",
       "      <td>4924</td>\n",
       "      <td>513</td>\n",
       "      <td>1</td>\n",
       "      <td>4882.0</td>\n",
       "      <td>562.0</td>\n",
       "    </tr>\n",
       "    <tr>\n",
       "      <th>7</th>\n",
       "      <td>6.5</td>\n",
       "      <td>2020</td>\n",
       "      <td>412</td>\n",
       "      <td>1</td>\n",
       "      <td>8545.0</td>\n",
       "      <td>888.0</td>\n",
       "    </tr>\n",
       "    <tr>\n",
       "      <th>...</th>\n",
       "      <td>...</td>\n",
       "      <td>...</td>\n",
       "      <td>...</td>\n",
       "      <td>...</td>\n",
       "      <td>...</td>\n",
       "      <td>...</td>\n",
       "    </tr>\n",
       "    <tr>\n",
       "      <th>4071</th>\n",
       "      <td>6.3</td>\n",
       "      <td>9574</td>\n",
       "      <td>5093</td>\n",
       "      <td>1</td>\n",
       "      <td>9511.0</td>\n",
       "      <td>1324.0</td>\n",
       "    </tr>\n",
       "    <tr>\n",
       "      <th>4094</th>\n",
       "      <td>4.0</td>\n",
       "      <td>4281</td>\n",
       "      <td>2332</td>\n",
       "      <td>1</td>\n",
       "      <td>3944.0</td>\n",
       "      <td>513.0</td>\n",
       "    </tr>\n",
       "    <tr>\n",
       "      <th>4096</th>\n",
       "      <td>NaN</td>\n",
       "      <td>73533</td>\n",
       "      <td>8809</td>\n",
       "      <td>0</td>\n",
       "      <td>30683.0</td>\n",
       "      <td>2506.0</td>\n",
       "    </tr>\n",
       "    <tr>\n",
       "      <th>4104</th>\n",
       "      <td>9.9</td>\n",
       "      <td>39579</td>\n",
       "      <td>4581</td>\n",
       "      <td>1</td>\n",
       "      <td>19332.0</td>\n",
       "      <td>1396.0</td>\n",
       "    </tr>\n",
       "    <tr>\n",
       "      <th>4112</th>\n",
       "      <td>4.1</td>\n",
       "      <td>9447</td>\n",
       "      <td>3059</td>\n",
       "      <td>1</td>\n",
       "      <td>5630.0</td>\n",
       "      <td>858.0</td>\n",
       "    </tr>\n",
       "  </tbody>\n",
       "</table>\n",
       "<p>2484 rows × 6 columns</p>\n",
       "</div>"
      ],
      "text/plain": [
       "      upfront_price  distance  duration  gps_confidence  predicted_distance  \\\n",
       "0              10.0      2839       700               1             13384.0   \n",
       "1               3.6      5698       493               1              2286.0   \n",
       "2               3.5      4426       695               1              4101.0   \n",
       "5               6.3      4924       513               1              4882.0   \n",
       "7               6.5      2020       412               1              8545.0   \n",
       "...             ...       ...       ...             ...                 ...   \n",
       "4071            6.3      9574      5093               1              9511.0   \n",
       "4094            4.0      4281      2332               1              3944.0   \n",
       "4096            NaN     73533      8809               0             30683.0   \n",
       "4104            9.9     39579      4581               1             19332.0   \n",
       "4112            4.1      9447      3059               1              5630.0   \n",
       "\n",
       "      predicted_duration  \n",
       "0                 1091.0  \n",
       "1                  360.0  \n",
       "2                  433.0  \n",
       "5                  562.0  \n",
       "7                  888.0  \n",
       "...                  ...  \n",
       "4071              1324.0  \n",
       "4094               513.0  \n",
       "4096              2506.0  \n",
       "4104              1396.0  \n",
       "4112               858.0  \n",
       "\n",
       "[2484 rows x 6 columns]"
      ]
     },
     "execution_count": 166,
     "metadata": {},
     "output_type": "execute_result"
    }
   ],
   "source": [
    "df[df.eu_indicator == 1][cor_cols].drop(columns='metered_price')"
   ]
  },
  {
   "cell_type": "code",
   "execution_count": 171,
   "id": "93f4e80f-2821-44b6-a298-73dae8f7cfe8",
   "metadata": {},
   "outputs": [
    {
     "data": {
      "text/html": [
       "<div>\n",
       "<style scoped>\n",
       "    .dataframe tbody tr th:only-of-type {\n",
       "        vertical-align: middle;\n",
       "    }\n",
       "\n",
       "    .dataframe tbody tr th {\n",
       "        vertical-align: top;\n",
       "    }\n",
       "\n",
       "    .dataframe thead th {\n",
       "        text-align: right;\n",
       "    }\n",
       "</style>\n",
       "<table border=\"1\" class=\"dataframe\">\n",
       "  <thead>\n",
       "    <tr style=\"text-align: right;\">\n",
       "      <th></th>\n",
       "      <th>upfront_price</th>\n",
       "      <th>distance</th>\n",
       "      <th>duration</th>\n",
       "      <th>gps_confidence</th>\n",
       "      <th>predicted_distance</th>\n",
       "      <th>predicted_duration</th>\n",
       "    </tr>\n",
       "  </thead>\n",
       "  <tbody>\n",
       "    <tr>\n",
       "      <th>0</th>\n",
       "      <td>10.0</td>\n",
       "      <td>2839</td>\n",
       "      <td>700</td>\n",
       "      <td>1</td>\n",
       "      <td>13384.0</td>\n",
       "      <td>1091.0</td>\n",
       "    </tr>\n",
       "    <tr>\n",
       "      <th>1</th>\n",
       "      <td>3.6</td>\n",
       "      <td>5698</td>\n",
       "      <td>493</td>\n",
       "      <td>1</td>\n",
       "      <td>2286.0</td>\n",
       "      <td>360.0</td>\n",
       "    </tr>\n",
       "    <tr>\n",
       "      <th>2</th>\n",
       "      <td>3.5</td>\n",
       "      <td>4426</td>\n",
       "      <td>695</td>\n",
       "      <td>1</td>\n",
       "      <td>4101.0</td>\n",
       "      <td>433.0</td>\n",
       "    </tr>\n",
       "    <tr>\n",
       "      <th>5</th>\n",
       "      <td>6.3</td>\n",
       "      <td>4924</td>\n",
       "      <td>513</td>\n",
       "      <td>1</td>\n",
       "      <td>4882.0</td>\n",
       "      <td>562.0</td>\n",
       "    </tr>\n",
       "    <tr>\n",
       "      <th>7</th>\n",
       "      <td>6.5</td>\n",
       "      <td>2020</td>\n",
       "      <td>412</td>\n",
       "      <td>1</td>\n",
       "      <td>8545.0</td>\n",
       "      <td>888.0</td>\n",
       "    </tr>\n",
       "    <tr>\n",
       "      <th>...</th>\n",
       "      <td>...</td>\n",
       "      <td>...</td>\n",
       "      <td>...</td>\n",
       "      <td>...</td>\n",
       "      <td>...</td>\n",
       "      <td>...</td>\n",
       "    </tr>\n",
       "    <tr>\n",
       "      <th>4061</th>\n",
       "      <td>8.1</td>\n",
       "      <td>3528</td>\n",
       "      <td>338</td>\n",
       "      <td>1</td>\n",
       "      <td>8143.0</td>\n",
       "      <td>768.0</td>\n",
       "    </tr>\n",
       "    <tr>\n",
       "      <th>4071</th>\n",
       "      <td>6.3</td>\n",
       "      <td>9574</td>\n",
       "      <td>5093</td>\n",
       "      <td>1</td>\n",
       "      <td>9511.0</td>\n",
       "      <td>1324.0</td>\n",
       "    </tr>\n",
       "    <tr>\n",
       "      <th>4094</th>\n",
       "      <td>4.0</td>\n",
       "      <td>4281</td>\n",
       "      <td>2332</td>\n",
       "      <td>1</td>\n",
       "      <td>3944.0</td>\n",
       "      <td>513.0</td>\n",
       "    </tr>\n",
       "    <tr>\n",
       "      <th>4104</th>\n",
       "      <td>9.9</td>\n",
       "      <td>39579</td>\n",
       "      <td>4581</td>\n",
       "      <td>1</td>\n",
       "      <td>19332.0</td>\n",
       "      <td>1396.0</td>\n",
       "    </tr>\n",
       "    <tr>\n",
       "      <th>4112</th>\n",
       "      <td>4.1</td>\n",
       "      <td>9447</td>\n",
       "      <td>3059</td>\n",
       "      <td>1</td>\n",
       "      <td>5630.0</td>\n",
       "      <td>858.0</td>\n",
       "    </tr>\n",
       "  </tbody>\n",
       "</table>\n",
       "<p>2274 rows × 6 columns</p>\n",
       "</div>"
      ],
      "text/plain": [
       "      upfront_price  distance  duration  gps_confidence  predicted_distance  \\\n",
       "0              10.0      2839       700               1             13384.0   \n",
       "1               3.6      5698       493               1              2286.0   \n",
       "2               3.5      4426       695               1              4101.0   \n",
       "5               6.3      4924       513               1              4882.0   \n",
       "7               6.5      2020       412               1              8545.0   \n",
       "...             ...       ...       ...             ...                 ...   \n",
       "4061            8.1      3528       338               1              8143.0   \n",
       "4071            6.3      9574      5093               1              9511.0   \n",
       "4094            4.0      4281      2332               1              3944.0   \n",
       "4104            9.9     39579      4581               1             19332.0   \n",
       "4112            4.1      9447      3059               1              5630.0   \n",
       "\n",
       "      predicted_duration  \n",
       "0                 1091.0  \n",
       "1                  360.0  \n",
       "2                  433.0  \n",
       "5                  562.0  \n",
       "7                  888.0  \n",
       "...                  ...  \n",
       "4061               768.0  \n",
       "4071              1324.0  \n",
       "4094               513.0  \n",
       "4104              1396.0  \n",
       "4112               858.0  \n",
       "\n",
       "[2274 rows x 6 columns]"
      ]
     },
     "execution_count": 171,
     "metadata": {},
     "output_type": "execute_result"
    }
   ],
   "source": [
    "df[df.eu_indicator == 1][cor_cols].drop(columns='metered_price').dropna()"
   ]
  },
  {
   "cell_type": "code",
   "execution_count": 187,
   "id": "bd21f73b-33f8-412c-9136-b27a0bb495dd",
   "metadata": {},
   "outputs": [],
   "source": [
    "X = df[df.eu_indicator == 0][cor_cols].dropna().drop(columns='metered_price')\n",
    "y = df[df.eu_indicator == 0][cor_cols].dropna()['metered_price']"
   ]
  },
  {
   "cell_type": "code",
   "execution_count": 188,
   "id": "1e902d03-5904-419c-8db0-103328c821f6",
   "metadata": {},
   "outputs": [],
   "source": [
    "X = (X - X.mean()) / X.std()"
   ]
  },
  {
   "cell_type": "code",
   "execution_count": 190,
   "id": "b41ef9c1-e470-40c1-bf14-e93806e4726b",
   "metadata": {},
   "outputs": [
    {
     "data": {
      "text/plain": [
       "LinearRegression()"
      ]
     },
     "execution_count": 190,
     "metadata": {},
     "output_type": "execute_result"
    }
   ],
   "source": [
    "lr.fit(X, y)"
   ]
  },
  {
   "cell_type": "code",
   "execution_count": 191,
   "id": "1fcc9496-4858-45a4-8e74-ba7b413dfcff",
   "metadata": {},
   "outputs": [
    {
     "data": {
      "text/plain": [
       "array([ 16398.67893295,  18445.50962158,   1628.64462669,   -313.27310737,\n",
       "       -15417.7859844 ,   -316.76282389])"
      ]
     },
     "execution_count": 191,
     "metadata": {},
     "output_type": "execute_result"
    }
   ],
   "source": [
    "lr.coef_"
   ]
  },
  {
   "cell_type": "code",
   "execution_count": 192,
   "id": "67a8a163-081a-4594-a291-d943e92f69d0",
   "metadata": {},
   "outputs": [
    {
     "data": {
      "text/plain": [
       "Index(['upfront_price', 'distance', 'duration', 'gps_confidence',\n",
       "       'predicted_distance', 'predicted_duration'],\n",
       "      dtype='object')"
      ]
     },
     "execution_count": 192,
     "metadata": {},
     "output_type": "execute_result"
    }
   ],
   "source": [
    "X.columns"
   ]
  }
 ],
 "metadata": {
  "kernelspec": {
   "display_name": "Python 3 (ipykernel)",
   "language": "python",
   "name": "python3"
  },
  "language_info": {
   "codemirror_mode": {
    "name": "ipython",
    "version": 3
   },
   "file_extension": ".py",
   "mimetype": "text/x-python",
   "name": "python",
   "nbconvert_exporter": "python",
   "pygments_lexer": "ipython3",
   "version": "3.9.7"
  }
 },
 "nbformat": 4,
 "nbformat_minor": 5
}
